{
 "cells": [
  {
   "cell_type": "code",
   "execution_count": 1,
   "metadata": {},
   "outputs": [],
   "source": [
    "# dependencies\n",
    "import pandas as pd\n",
    "import time\n",
    "from datetime import date\n",
    "from bs4 import BeautifulSoup as bs\n",
    "from splinter import Browser\n",
    "from webdriver_manager.chrome import ChromeDriverManager"
   ]
  },
  {
   "cell_type": "code",
   "execution_count": 2,
   "metadata": {},
   "outputs": [],
   "source": [
    "# export dataframe of results with today's date\n",
    "today = date.today()\n",
    "d_today = today.strftime(\"%Y_%m_%d\")"
   ]
  },
  {
   "cell_type": "code",
   "execution_count": 3,
   "metadata": {},
   "outputs": [
    {
     "name": "stderr",
     "output_type": "stream",
     "text": [
      "[WDM] - Current google-chrome version is 88.0.4324\n",
      "[WDM] - Get LATEST driver version for 88.0.4324\n"
     ]
    },
    {
     "name": "stdout",
     "output_type": "stream",
     "text": [
      " \n"
     ]
    },
    {
     "name": "stderr",
     "output_type": "stream",
     "text": [
      "[WDM] - Driver [C:\\Users\\stuhu\\.wdm\\drivers\\chromedriver\\win32\\88.0.4324.96\\chromedriver.exe] found in cache\n"
     ]
    }
   ],
   "source": [
    "# setup splinter\n",
    "executable_path = {'executable_path': ChromeDriverManager().install()}\n",
    "browser = Browser('chrome', **executable_path, headless=False)"
   ]
  },
  {
   "cell_type": "code",
   "execution_count": 4,
   "metadata": {},
   "outputs": [],
   "source": [
    "# visit https://www.imcdb.org/ website url\n",
    "url = \"https://www.imcdb.org/\"\n",
    "browser.visit(url)"
   ]
  },
  {
   "cell_type": "code",
   "execution_count": 5,
   "metadata": {},
   "outputs": [],
   "source": [
    "# fill out form with movie to search for\n",
    "browser.find_by_css('input').fill('Inception')"
   ]
  },
  {
   "cell_type": "code",
   "execution_count": 6,
   "metadata": {},
   "outputs": [],
   "source": [
    "# search for movie\n",
    "browser.find_by_value('Search').click()"
   ]
  },
  {
   "cell_type": "code",
   "execution_count": 7,
   "metadata": {},
   "outputs": [],
   "source": [
    "# create HTML object\n",
    "html = browser.html\n",
    "# parse HTML with BeautifulSoup\n",
    "soup = bs(html, 'html.parser')"
   ]
  },
  {
   "cell_type": "code",
   "execution_count": 8,
   "metadata": {},
   "outputs": [
    {
     "name": "stdout",
     "output_type": "stream",
     "text": [
      "everything good\n"
     ]
    }
   ],
   "source": [
    "# attempt to find elements that contain car data with a conditional\n",
    "results = soup.find_all('div', class_='ThumbnailBox')\n",
    "if len(results) != 0:\n",
    "    print(\"everything good\")\n",
    "else:\n",
    "    print(\"extra step taken\")\n",
    "    browser.links.find_by_text('Inception').click()"
   ]
  },
  {
   "cell_type": "code",
   "execution_count": 9,
   "metadata": {},
   "outputs": [
    {
     "data": {
      "text/plain": [
       "67"
      ]
     },
     "execution_count": 9,
     "metadata": {},
     "output_type": "execute_result"
    }
   ],
   "source": [
    "# are there any results?\n",
    "len(results)"
   ]
  },
  {
   "cell_type": "code",
   "execution_count": 10,
   "metadata": {},
   "outputs": [
    {
     "data": {
      "text/plain": [
       "[<div class=\"ThumbnailBox\"><a class=\"Thumbnail\" href=\"vehicle_870785-Acura-CL-YA-1998.html\"><img alt=\"870785\" height=\"100\" src=\"t870785.jpg\" title=\"Click for details and comments about this vehicle\" width=\"235\"/></a>1998 <a href=\"vehicles_make-Acura.html\">Acura</a> <a href=\"vehicles_make-Acura_model-CL.html\">CL</a> <span class=\"Stars\"><img alt=\"[*]\" height=\"16\" src=\"/res/star.png\" width=\"15\"/></span></div>,\n",
       " <div class=\"ThumbnailBox\"><a class=\"Thumbnail\" href=\"vehicle_1299489-BMW-3-E30-1984.html\"><img alt=\"1299489\" height=\"100\" src=\"t001299489.jpg\" title=\"Click for details and comments about this vehicle\" width=\"235\"/></a>1984 <a href=\"vehicles_make-BMW.html\">BMW</a> <a href=\"vehicles_make-BMW_model-3.html\">3</a> [<a href=\"vehicles_make-BMW_model-E30.html\">E30</a>] <span class=\"Stars\"><img alt=\"[*]\" height=\"16\" src=\"/res/star.png\" width=\"15\"/></span></div>,\n",
       " <div class=\"ThumbnailBox\"><a class=\"Thumbnail\" href=\"vehicle_355633-BMW-3-E30-1990.html\"><img alt=\"355633\" height=\"100\" src=\"t355633.jpg\" title=\"Click for details and comments about this vehicle\" width=\"235\"/></a>1990 <a href=\"vehicles_make-BMW.html\">BMW</a> <a href=\"vehicles_make-BMW_model-3.html\">3</a> [<a href=\"vehicles_make-BMW_model-E30.html\">E30</a>] <span class=\"Stars\"><img alt=\"[*]\" height=\"16\" src=\"/res/star.png\" width=\"15\"/></span></div>,\n",
       " <div class=\"ThumbnailBox\"><a class=\"Thumbnail\" href=\"vehicle_320935-BMW-7-E38-1999.html\"><img alt=\"320935\" height=\"100\" src=\"t320935.jpg\" title=\"Click for details and comments about this vehicle\" width=\"235\"/></a>1999 <a href=\"vehicles_make-BMW.html\">BMW</a> <a href=\"vehicles_make-BMW_model-7.html\">7</a> [<a href=\"vehicles_make-BMW_model-E38.html\">E38</a>] <span class=\"Stars\"><img alt=\"[*]\" height=\"16\" src=\"/res/star.png\" width=\"15\"/><img alt=\"[*]\" height=\"16\" src=\"/res/star.png\" width=\"15\"/></span></div>,\n",
       " <div class=\"ThumbnailBox\"><a class=\"Thumbnail\" href=\"vehicle_355662-Buick-LeSabre-1992.html\"><img alt=\"355662\" height=\"100\" src=\"t355662.jpg\" title=\"Click for details and comments about this vehicle\" width=\"235\"/></a>1992 <a href=\"vehicles_make-Buick.html\">Buick</a> <a href=\"vehicles_make-Buick_model-LeSabre.html\">LeSabre</a> <span class=\"Stars\"><img alt=\"[*]\" height=\"16\" src=\"/res/star.png\" width=\"15\"/></span></div>,\n",
       " <div class=\"ThumbnailBox\"><a class=\"Thumbnail\" href=\"vehicle_355638-Buick-LeSabre-GMX220-2000.html\"><img alt=\"355638\" height=\"100\" src=\"t355638.jpg\" title=\"Click for details and comments about this vehicle\" width=\"235\"/></a>2000 <a href=\"vehicles_make-Buick.html\">Buick</a> <a href=\"vehicles_make-Buick_model-LeSabre.html\">LeSabre</a> <span class=\"Stars\"><img alt=\"[*]\" height=\"16\" src=\"/res/star.png\" width=\"15\"/></span></div>,\n",
       " <div class=\"ThumbnailBox\"><a class=\"Thumbnail\" href=\"vehicle_355652-Cadillac-DeVille-1997.html\"><img alt=\"355652\" height=\"100\" src=\"t355652.jpg\" title=\"Click for details and comments about this vehicle\" width=\"235\"/></a>1997 <a href=\"vehicles_make-Cadillac.html\">Cadillac</a> <a href=\"vehicles_make-Cadillac_model-DeVille.html\">DeVille</a> <span class=\"Stars\"><img alt=\"[*]\" height=\"16\" src=\"/res/star.png\" width=\"15\"/></span></div>,\n",
       " <div class=\"ThumbnailBox\"><a class=\"Thumbnail\" href=\"vehicle_355650-Chrysler-New-Yorker-1983.html\"><img alt=\"355650\" height=\"100\" src=\"t355650.jpg\" title=\"Click for details and comments about this vehicle\" width=\"235\"/></a>1983 <a href=\"vehicles_make-Chrysler.html\">Chrysler</a> <a href=\"vehicles_make-Chrysler_model-New.html\">New</a> <a href=\"vehicles_make-Chrysler_model-New+Yorker.html\">Yorker</a> <span class=\"Stars\"><img alt=\"[*]\" height=\"16\" src=\"/res/star.png\" width=\"15\"/></span></div>,\n",
       " <div class=\"ThumbnailBox\"><a class=\"Thumbnail\" href=\"vehicle_355614-Citroen-C3-2006.html\"><img alt=\"355614\" height=\"100\" src=\"t355614.jpg\" title=\"Click for details and comments about this vehicle\" width=\"235\"/></a>2006 <a href=\"vehicles_make-Citro%EBn.html\">Citroën</a> <a href=\"vehicles_make-Citro%EBn_model-C3.html\">C3</a> <span class=\"Stars\"><img alt=\"[*]\" height=\"16\" src=\"/res/star.png\" width=\"15\"/></span></div>,\n",
       " <div class=\"ThumbnailBox\"><a class=\"Thumbnail\" href=\"vehicle_1203998-Citroen-C4-2005.html\"><img alt=\"1203998\" height=\"100\" src=\"t001203998.jpg\" title=\"Click for details and comments about this vehicle\" width=\"235\"/></a>2005 <a href=\"vehicles_make-Citro%EBn.html\">Citroën</a> <a href=\"vehicles_make-Citro%EBn_model-C4.html\">C4</a> <span class=\"Stars\"><img alt=\"[*]\" height=\"16\" src=\"/res/star.png\" width=\"15\"/></span></div>,\n",
       " <div class=\"ThumbnailBox\"><a class=\"Thumbnail\" href=\"vehicle_355620-Citroen-Xantia-1998.html\"><img alt=\"355620\" height=\"100\" src=\"t355620.jpg\" title=\"Click for details and comments about this vehicle\" width=\"235\"/></a>1998 <a href=\"vehicles_make-Citro%EBn.html\">Citroën</a> <a href=\"vehicles_make-Citro%EBn_model-Xantia.html\">Xantia</a> <span class=\"Stars\"><img alt=\"[*]\" height=\"16\" src=\"/res/star.png\" width=\"15\"/></span></div>,\n",
       " <div class=\"ThumbnailBox\"><a class=\"Thumbnail\" href=\"vehicle_323949-Daihatsu-Hijet-S80.html\"><img alt=\"323949\" height=\"100\" src=\"t323949.jpg\" title=\"Click for details and comments about this vehicle\" width=\"235\"/></a><a href=\"vehicles_make-Daihatsu.html\">Daihatsu</a> <a href=\"vehicles_make-Daihatsu_model-Hijet.html\">Hijet</a> <span class=\"Stars\"><img alt=\"[*]\" height=\"16\" src=\"/res/star.png\" width=\"15\"/><img alt=\"[*]\" height=\"16\" src=\"/res/star.png\" width=\"15\"/></span></div>,\n",
       " <div class=\"ThumbnailBox\"><a class=\"Thumbnail\" href=\"vehicle_310267-Ducati-Streetfighter.html\"><img alt=\"310267\" height=\"100\" src=\"t310267.jpg\" title=\"Click for details and comments about this vehicle\" width=\"235\"/></a><a href=\"vehicles_make-Ducati.html\">Ducati</a> <a href=\"vehicles_make-Ducati_model-Streetfighter.html\">Streetfighter</a> <span class=\"Stars\"><img alt=\"[*]\" height=\"16\" src=\"/res/star.png\" width=\"15\"/><img alt=\"[*]\" height=\"16\" src=\"/res/star.png\" width=\"15\"/></span></div>,\n",
       " <div class=\"ThumbnailBox\"><a class=\"Thumbnail\" href=\"vehicle_355623-Fiat-Ducato-2002.html\"><img alt=\"355623\" height=\"100\" src=\"t355623.jpg\" title=\"Click for details and comments about this vehicle\" width=\"235\"/></a>2002 <a href=\"vehicles_make-Fiat.html\">Fiat</a> <a href=\"vehicles_make-Fiat_model-Ducato.html\">Ducato</a> <span class=\"Stars\"><img alt=\"[*]\" height=\"16\" src=\"/res/star.png\" width=\"15\"/></span></div>,\n",
       " <div class=\"ThumbnailBox\"><a class=\"Thumbnail\" href=\"vehicle_355612-Fiat-Grande-Punto-199-2006.html\"><img alt=\"355612\" height=\"100\" src=\"t355612.jpg\" title=\"Click for details and comments about this vehicle\" width=\"235\"/></a>2006 <a href=\"vehicles_make-Fiat.html\">Fiat</a> <a href=\"vehicles_make-Fiat_model-Grande.html\">Grande</a> <a href=\"vehicles_make-Fiat_model-Grande+Punto.html\">Punto</a> <span class=\"Stars\"><img alt=\"[*]\" height=\"16\" src=\"/res/star.png\" width=\"15\"/></span></div>,\n",
       " <div class=\"ThumbnailBox\"><a class=\"Thumbnail\" href=\"vehicle_310270-Ford-Crown-Victoria-2001.html\"><img alt=\"310270\" height=\"100\" src=\"t310270.jpg\" title=\"Click for details and comments about this vehicle\" width=\"235\"/></a>2001 <a href=\"vehicles_make-Ford.html\">Ford</a> <a href=\"vehicles_make-Ford_model-Crown.html\">Crown</a> <a href=\"vehicles_make-Ford_model-Crown+Victoria.html\">Victoria</a> <span class=\"Stars\"><img alt=\"[*]\" height=\"16\" src=\"/res/star.png\" width=\"15\"/><img alt=\"[*]\" height=\"16\" src=\"/res/star.png\" width=\"15\"/><img alt=\"[*]\" height=\"16\" src=\"/res/star.png\" width=\"15\"/></span></div>,\n",
       " <div class=\"ThumbnailBox\"><a class=\"Thumbnail\" href=\"vehicle_319274-Ford-E-350-2003.html\"><img alt=\"319274\" height=\"100\" src=\"t319274.jpg\" title=\"Click for details and comments about this vehicle\" width=\"235\"/></a>2003 <a href=\"vehicles_make-Ford.html\">Ford</a> <a href=\"vehicles_make-Ford_model-E.html\">E</a>-<a href=\"vehicles_make-Ford_model-E-350.html\">350</a> <span class=\"Stars\"><img alt=\"[*]\" height=\"16\" src=\"/res/star.png\" width=\"15\"/><img alt=\"[*]\" height=\"16\" src=\"/res/star.png\" width=\"15\"/><img alt=\"[*]\" height=\"16\" src=\"/res/star.png\" width=\"15\"/><img alt=\"[*]\" height=\"16\" src=\"/res/star.png\" width=\"15\"/></span></div>,\n",
       " <div class=\"ThumbnailBox\"><a class=\"Thumbnail\" href=\"vehicle_1203999-Ford-Fusion-2002.html\"><img alt=\"1203999\" height=\"100\" src=\"t001203999.jpg\" title=\"Click for details and comments about this vehicle\" width=\"235\"/></a>2002 <a href=\"vehicles_make-Ford.html\">Ford</a> <a href=\"vehicles_make-Ford_model-Fusion.html\">Fusion</a> <span class=\"Stars\"><img alt=\"[*]\" height=\"16\" src=\"/res/star.png\" width=\"15\"/></span></div>,\n",
       " <div class=\"ThumbnailBox\"><a class=\"Thumbnail\" href=\"vehicle_355648-Ford-Taurus-DN101-1998.html\"><img alt=\"355648\" height=\"100\" src=\"t355648.jpg\" title=\"Click for details and comments about this vehicle\" width=\"235\"/></a>1998 <a href=\"vehicles_make-Ford.html\">Ford</a> <a href=\"vehicles_make-Ford_model-Taurus.html\">Taurus</a> <span class=\"Stars\"><img alt=\"[*]\" height=\"16\" src=\"/res/star.png\" width=\"15\"/></span></div>,\n",
       " <div class=\"ThumbnailBox\"><a class=\"Thumbnail\" href=\"vehicle_355639-Ford-Taurus-SHO-DN5-1993.html\"><img alt=\"355639\" height=\"100\" src=\"t355639.jpg\" title=\"Click for details and comments about this vehicle\" width=\"235\"/></a>1993 <a href=\"vehicles_make-Ford.html\">Ford</a> <a href=\"vehicles_make-Ford_model-Taurus.html\">Taurus</a> <a href=\"vehicles_make-Ford_model-Taurus+SHO.html\">SHO</a> <span class=\"Stars\"><img alt=\"[*]\" height=\"16\" src=\"/res/star.png\" width=\"15\"/></span></div>,\n",
       " <div class=\"ThumbnailBox\"><a class=\"Thumbnail\" href=\"vehicle_310265-Ford-Thunderbird-1983.html\"><img alt=\"310265\" height=\"100\" src=\"t310265.jpg\" title=\"Click for details and comments about this vehicle\" width=\"235\"/></a>1983 <a href=\"vehicles_make-Ford.html\">Ford</a> <a href=\"vehicles_make-Ford_model-Thunderbird.html\">Thunderbird</a> <span class=\"Stars\"><img alt=\"[*]\" height=\"16\" src=\"/res/star.png\" width=\"15\"/></span></div>,\n",
       " <div class=\"ThumbnailBox\"><a class=\"Thumbnail\" href=\"vehicle_355634-GMC-RTS-1980.html\"><img alt=\"355634\" height=\"100\" src=\"t355634.jpg\" title=\"Click for details and comments about this vehicle\" width=\"235\"/></a>1980 <a href=\"vehicles_make-GMC.html\">GMC</a> <a href=\"vehicles_make-GMC_model-RTS.html\">RTS</a> <span class=\"Stars\"><img alt=\"[*]\" height=\"16\" src=\"/res/star.png\" width=\"15\"/></span></div>,\n",
       " <div class=\"ThumbnailBox\"><a class=\"Thumbnail\" href=\"vehicle_319275-Hummer.html\"><img alt=\"319275\" height=\"100\" src=\"t319275.jpg\" title=\"Click for details and comments about this vehicle\" width=\"235\"/></a><a href=\"vehicles_make-Hummer.html\">Hummer</a> <span class=\"Stars\"><img alt=\"[*]\" height=\"16\" src=\"/res/star.png\" width=\"15\"/><img alt=\"[*]\" height=\"16\" src=\"/res/star.png\" width=\"15\"/><img alt=\"[*]\" height=\"16\" src=\"/res/star.png\" width=\"15\"/></span></div>,\n",
       " <div class=\"ThumbnailBox\"><a class=\"Thumbnail\" href=\"vehicle_315034-Hyundai-Genesis-BH-2009.html\"><img alt=\"315034\" height=\"100\" src=\"t315034.jpg\" title=\"Click for details and comments about this vehicle\" width=\"235\"/></a>2009 <a href=\"vehicles_make-Hyundai.html\">Hyundai</a> <a href=\"vehicles_make-Hyundai_model-Genesis.html\">Genesis</a> <span class=\"Stars\"><img alt=\"[*]\" height=\"16\" src=\"/res/star.png\" width=\"15\"/><img alt=\"[*]\" height=\"16\" src=\"/res/star.png\" width=\"15\"/><img alt=\"[*]\" height=\"16\" src=\"/res/star.png\" width=\"15\"/></span></div>,\n",
       " <div class=\"ThumbnailBox\"><a class=\"Thumbnail\" href=\"vehicle_1204000-Infiniti-I30-A32-1996.html\"><img alt=\"1204000\" height=\"100\" src=\"t001204000.jpg\" title=\"Click for details and comments about this vehicle\" width=\"235\"/></a>1996 <a href=\"vehicles_make-Infiniti.html\">Infiniti</a> <a href=\"vehicles_make-Infiniti_model-I30.html\">I30</a> <span class=\"Stars\"><img alt=\"[*]\" height=\"16\" src=\"/res/star.png\" width=\"15\"/></span></div>,\n",
       " <div class=\"ThumbnailBox\"><a class=\"Thumbnail\" href=\"vehicle_355644-Infiniti-Q45-G50-1990.html\"><img alt=\"355644\" height=\"100\" src=\"t355644.jpg\" title=\"Click for details and comments about this vehicle\" width=\"235\"/></a>1990 <a href=\"vehicles_make-Infiniti.html\">Infiniti</a> <a href=\"vehicles_make-Infiniti_model-Q45.html\">Q45</a> <span class=\"Stars\"><img alt=\"[*]\" height=\"16\" src=\"/res/star.png\" width=\"15\"/></span></div>,\n",
       " <div class=\"ThumbnailBox\"><a class=\"Thumbnail\" href=\"vehicle_1203995-Kia-Carens-2003.html\"><img alt=\"1203995\" height=\"100\" src=\"t001203995.jpg\" title=\"Click for details and comments about this vehicle\" width=\"235\"/></a>2003 <a href=\"vehicles_make-Kia.html\">Kia</a> <a href=\"vehicles_make-Kia_model-Carens.html\">Carens</a> <span class=\"Stars\"><img alt=\"[*]\" height=\"16\" src=\"/res/star.png\" width=\"15\"/></span></div>,\n",
       " <div class=\"ThumbnailBox\"><a class=\"Thumbnail\" href=\"vehicle_355631-Land-Rover-Range-Rover-Sport-2005.html\"><img alt=\"355631\" height=\"100\" src=\"t355631.jpg\" title=\"Click for details and comments about this vehicle\" width=\"235\"/></a>2005 <a href=\"vehicles_make-Land-Rover.html\">Land-Rover</a> <a href=\"vehicles_make-Land-Rover_model-Range.html\">Range</a> <a href=\"vehicles_make-Land-Rover_model-Range+Rover.html\">Rover</a> <a href=\"vehicles_make-Land-Rover_model-Range+Rover+Sport.html\">Sport</a> <span class=\"Stars\"><img alt=\"[*]\" height=\"16\" src=\"/res/star.png\" width=\"15\"/><img alt=\"[*]\" height=\"16\" src=\"/res/star.png\" width=\"15\"/></span></div>,\n",
       " <div class=\"ThumbnailBox\"><a class=\"Thumbnail\" href=\"vehicle_320934-Lincoln-Town-Car-1998.html\"><img alt=\"320934\" height=\"100\" src=\"t320934.jpg\" title=\"Click for details and comments about this vehicle\" width=\"235\"/></a>1998 <a href=\"vehicles_make-Lincoln.html\">Lincoln</a> <a href=\"vehicles_make-Lincoln_model-Town.html\">Town</a> <a href=\"vehicles_make-Lincoln_model-Town+Car.html\">Car</a> <span class=\"Stars\"><img alt=\"[*]\" height=\"16\" src=\"/res/star.png\" width=\"15\"/><img alt=\"[*]\" height=\"16\" src=\"/res/star.png\" width=\"15\"/></span></div>,\n",
       " <div class=\"ThumbnailBox\"><a class=\"Thumbnail\" href=\"vehicle_355637-Mack-Mid-Liner-1987.html\"><img alt=\"355637\" height=\"100\" src=\"t355637.jpg\" title=\"Click for details and comments about this vehicle\" width=\"235\"/></a>1987 <a href=\"vehicles_make-Mack.html\">Mack</a> <a href=\"vehicles_make-Mack_model-Mid.html\">Mid</a>-<a href=\"vehicles_make-Mack_model-Mid-Liner.html\">Liner</a> <span class=\"Stars\"><img alt=\"[*]\" height=\"16\" src=\"/res/star.png\" width=\"15\"/></span></div>,\n",
       " <div class=\"ThumbnailBox\"><a class=\"Thumbnail\" href=\"vehicle_324595-Maybach-57-W240-2003.html\"><img alt=\"324595\" height=\"100\" src=\"t324595.jpg\" title=\"Click for details and comments about this vehicle\" width=\"235\"/></a>2003 <a href=\"vehicles_make-Maybach.html\">Maybach</a> <a href=\"vehicles_make-Maybach_model-57.html\">57</a> [<a href=\"vehicles_make-Maybach_model-W240.html\">W240</a>] <span class=\"Stars\"><img alt=\"[*]\" height=\"16\" src=\"/res/star.png\" width=\"15\"/><img alt=\"[*]\" height=\"16\" src=\"/res/star.png\" width=\"15\"/></span></div>,\n",
       " <div class=\"ThumbnailBox\"><a class=\"Thumbnail\" href=\"vehicle_1203996-Mercedes-Benz-A-Klasse-W169-2005.html\"><img alt=\"1203996\" height=\"100\" src=\"t001203996.jpg\" title=\"Click for details and comments about this vehicle\" width=\"235\"/></a>2005 <a href=\"vehicles_make-Mercedes-Benz.html\">Mercedes-Benz</a> <a href=\"vehicles_make-Mercedes-Benz_model-A.html\">A</a>-<a href=\"vehicles_make-Mercedes-Benz_model-A-Klasse.html\">Klasse</a> [<a href=\"vehicles_make-Mercedes-Benz_model-W169.html\">W169</a>] <span class=\"Stars\"><img alt=\"[*]\" height=\"16\" src=\"/res/star.png\" width=\"15\"/></span></div>,\n",
       " <div class=\"ThumbnailBox\"><a class=\"Thumbnail\" href=\"vehicle_355624-Mercedes-Benz-E-Klasse-W212-2009.html\"><img alt=\"355624\" height=\"100\" src=\"t355624.jpg\" title=\"Click for details and comments about this vehicle\" width=\"235\"/></a>2009 <a href=\"vehicles_make-Mercedes-Benz.html\">Mercedes-Benz</a> <a href=\"vehicles_make-Mercedes-Benz_model-E.html\">E</a>-<a href=\"vehicles_make-Mercedes-Benz_model-E-Klasse.html\">Klasse</a> [<a href=\"vehicles_make-Mercedes-Benz_model-W212.html\">W212</a>] <span class=\"Stars\"><img alt=\"[*]\" height=\"16\" src=\"/res/star.png\" width=\"15\"/></span></div>,\n",
       " <div class=\"ThumbnailBox\"><a class=\"Thumbnail\" href=\"vehicle_319276-Mercedes-Benz-GL-X164-2007.html\"><img alt=\"319276\" height=\"100\" src=\"t319276.jpg\" title=\"Click for details and comments about this vehicle\" width=\"235\"/></a>2007 <a href=\"vehicles_make-Mercedes-Benz.html\">Mercedes-Benz</a> <a href=\"vehicles_make-Mercedes-Benz_model-GL.html\">GL</a> [<a href=\"vehicles_make-Mercedes-Benz_model-X164.html\">X164</a>] <span class=\"Stars\"><img alt=\"[*]\" height=\"16\" src=\"/res/star.png\" width=\"15\"/><img alt=\"[*]\" height=\"16\" src=\"/res/star.png\" width=\"15\"/><img alt=\"[*]\" height=\"16\" src=\"/res/star.png\" width=\"15\"/></span></div>,\n",
       " <div class=\"ThumbnailBox\"><a class=\"Thumbnail\" href=\"vehicle_319273-Mercedes-Benz-S-320-W220-2003.html\"><img alt=\"319273\" height=\"100\" src=\"t319273.jpg\" title=\"Click for details and comments about this vehicle\" width=\"235\"/></a>2003 <a href=\"vehicles_make-Mercedes-Benz.html\">Mercedes-Benz</a> <a href=\"vehicles_make-Mercedes-Benz_model-S.html\">S</a> <a href=\"vehicles_make-Mercedes-Benz_model-S+320.html\">320</a> [<a href=\"vehicles_make-Mercedes-Benz_model-W220.html\">W220</a>] <span class=\"Stars\"><img alt=\"[*]\" height=\"16\" src=\"/res/star.png\" width=\"15\"/><img alt=\"[*]\" height=\"16\" src=\"/res/star.png\" width=\"15\"/></span></div>,\n",
       " <div class=\"ThumbnailBox\"><a class=\"Thumbnail\" href=\"vehicle_355632-Mercury-Villager-VX54-1993.html\"><img alt=\"355632\" height=\"100\" src=\"t355632.jpg\" title=\"Click for details and comments about this vehicle\" width=\"235\"/></a>1993 <a href=\"vehicles_make-Mercury.html\">Mercury</a> <a href=\"vehicles_make-Mercury_model-Villager.html\">Villager</a> <span class=\"Stars\"><img alt=\"[*]\" height=\"16\" src=\"/res/star.png\" width=\"15\"/></span></div>,\n",
       " <div class=\"ThumbnailBox\"><a class=\"Thumbnail\" href=\"vehicle_355622-Mini-1000-ADO20-1980.html\"><img alt=\"355622\" height=\"100\" src=\"t355622.jpg\" title=\"Click for details and comments about this vehicle\" width=\"235\"/></a>1980 <a href=\"vehicles_make-Mini.html\">Mini</a> <a href=\"vehicles_make-Mini_model-1000.html\">1000</a> MkIV <span class=\"Stars\"><img alt=\"[*]\" height=\"16\" src=\"/res/star.png\" width=\"15\"/></span></div>,\n",
       " <div class=\"ThumbnailBox\"><a class=\"Thumbnail\" href=\"vehicle_1299481-Nissan-Micra-K11.html\"><img alt=\"1299481\" height=\"100\" src=\"t001299481.jpg\" title=\"Click for details and comments about this vehicle\" width=\"235\"/></a><a href=\"vehicles_make-Nissan.html\">Nissan</a> <a href=\"vehicles_make-Nissan_model-Micra.html\">Micra</a> <span class=\"Stars\"><img alt=\"[*]\" height=\"16\" src=\"/res/star.png\" width=\"15\"/></span></div>,\n",
       " <div class=\"ThumbnailBox\"><a class=\"Thumbnail\" href=\"vehicle_355645-Oldsmobile-Alero-3NL37-1999.html\"><img alt=\"355645\" height=\"100\" src=\"t355645.jpg\" title=\"Click for details and comments about this vehicle\" width=\"235\"/></a>1999 <a href=\"vehicles_make-Oldsmobile.html\">Oldsmobile</a> <a href=\"vehicles_make-Oldsmobile_model-Alero.html\">Alero</a> <span class=\"Stars\"><img alt=\"[*]\" height=\"16\" src=\"/res/star.png\" width=\"15\"/></span></div>,\n",
       " <div class=\"ThumbnailBox\"><a class=\"Thumbnail\" href=\"vehicle_1299486-Peugeot-107-2009.html\"><img alt=\"1299486\" height=\"100\" src=\"t001299486.jpg\" title=\"Click for details and comments about this vehicle\" width=\"235\"/></a>2009 <a href=\"vehicles_make-Peugeot.html\">Peugeot</a> <a href=\"vehicles_make-Peugeot_model-107.html\">107</a> <span class=\"Stars\"><img alt=\"[*]\" height=\"16\" src=\"/res/star.png\" width=\"15\"/></span></div>,\n",
       " <div class=\"ThumbnailBox\"><a class=\"Thumbnail\" href=\"vehicle_355626-Peugeot-206-1999.html\"><img alt=\"355626\" height=\"100\" src=\"t355626.jpg\" title=\"Click for details and comments about this vehicle\" width=\"235\"/></a>1999 <a href=\"vehicles_make-Peugeot.html\">Peugeot</a> <a href=\"vehicles_make-Peugeot_model-206.html\">206</a> <span class=\"Stars\"><img alt=\"[*]\" height=\"16\" src=\"/res/star.png\" width=\"15\"/></span></div>,\n",
       " <div class=\"ThumbnailBox\"><a class=\"Thumbnail\" href=\"vehicle_1299470-Peugeot-306.html\"><img alt=\"1299470\" height=\"100\" src=\"t001299470.jpg\" title=\"Click for details and comments about this vehicle\" width=\"235\"/></a><a href=\"vehicles_make-Peugeot.html\">Peugeot</a> <a href=\"vehicles_make-Peugeot_model-306.html\">306</a> <span class=\"Stars\"><img alt=\"[*]\" height=\"16\" src=\"/res/star.png\" width=\"15\"/></span></div>,\n",
       " <div class=\"ThumbnailBox\"><a class=\"Thumbnail\" href=\"vehicle_355618-Peugeot-308-T7-2008.html\"><img alt=\"355618\" height=\"100\" src=\"t355618.jpg\" title=\"Click for details and comments about this vehicle\" width=\"235\"/></a>2008 <a href=\"vehicles_make-Peugeot.html\">Peugeot</a> <a href=\"vehicles_make-Peugeot_model-308.html\">308</a> <span class=\"Stars\"><img alt=\"[*]\" height=\"16\" src=\"/res/star.png\" width=\"15\"/></span></div>,\n",
       " <div class=\"ThumbnailBox\"><a class=\"Thumbnail\" href=\"vehicle_355619-Peugeot-406-Coupe-1997.html\"><img alt=\"355619\" height=\"100\" src=\"t355619.jpg\" title=\"Click for details and comments about this vehicle\" width=\"235\"/></a>1997 <a href=\"vehicles_make-Peugeot.html\">Peugeot</a> <a href=\"vehicles_make-Peugeot_model-406.html\">406</a> <a href=\"vehicles_make-Peugeot_model-406+Coup%E9.html\">Coupé</a> <span class=\"Stars\"><img alt=\"[*]\" height=\"16\" src=\"/res/star.png\" width=\"15\"/></span></div>,\n",
       " <div class=\"ThumbnailBox\"><a class=\"Thumbnail\" href=\"vehicle_1299477-Renault-18-X34.html\"><img alt=\"1299477\" height=\"100\" src=\"t001299477.jpg\" title=\"Click for details and comments about this vehicle\" width=\"235\"/></a><a href=\"vehicles_make-Renault.html\">Renault</a> <a href=\"vehicles_make-Renault_model-18.html\">18</a> <span class=\"Stars\"><img alt=\"[*]\" height=\"16\" src=\"/res/star.png\" width=\"15\"/></span></div>,\n",
       " <div class=\"ThumbnailBox\"><a class=\"Thumbnail\" href=\"vehicle_355615-Renault-Clio-X85-2010.html\"><img alt=\"355615\" height=\"100\" src=\"t355615.jpg\" title=\"Click for details and comments about this vehicle\" width=\"235\"/></a>2010 <a href=\"vehicles_make-Renault.html\">Renault</a> <a href=\"vehicles_make-Renault_model-Clio.html\">Clio</a> 3 <span class=\"Stars\"><img alt=\"[*]\" height=\"16\" src=\"/res/star.png\" width=\"15\"/></span></div>,\n",
       " <div class=\"ThumbnailBox\"><a class=\"Thumbnail\" href=\"vehicle_310268-Renault-Master-1998.html\"><img alt=\"310268\" height=\"100\" src=\"t310268.jpg\" title=\"Click for details and comments about this vehicle\" width=\"235\"/></a>1998 <a href=\"vehicles_make-Renault.html\">Renault</a> <a href=\"vehicles_make-Renault_model-Master.html\">Master</a> <span class=\"Stars\"><img alt=\"[*]\" height=\"16\" src=\"/res/star.png\" width=\"15\"/></span></div>,\n",
       " <div class=\"ThumbnailBox\"><a class=\"Thumbnail\" href=\"vehicle_310269-Renault-Twingo-X06-1993.html\"><img alt=\"310269\" height=\"100\" src=\"t310269.jpg\" title=\"Click for details and comments about this vehicle\" width=\"235\"/></a>1993 <a href=\"vehicles_make-Renault.html\">Renault</a> <a href=\"vehicles_make-Renault_model-Twingo.html\">Twingo</a> <span class=\"Stars\"><img alt=\"[*]\" height=\"16\" src=\"/res/star.png\" width=\"15\"/></span></div>,\n",
       " <div class=\"ThumbnailBox\"><a class=\"Thumbnail\" href=\"vehicle_323761-SAAB-900-1987.html\"><img alt=\"323761\" height=\"100\" src=\"t323761.jpg\" title=\"Click for details and comments about this vehicle\" width=\"235\"/></a>1987 <a href=\"vehicles_make-SAAB.html\">SAAB</a> <a href=\"vehicles_make-SAAB_model-900.html\">900</a> <span class=\"Stars\"><img alt=\"[*]\" height=\"16\" src=\"/res/star.png\" width=\"15\"/></span></div>,\n",
       " <div class=\"ThumbnailBox\"><a class=\"Thumbnail\" href=\"vehicle_310266-SAAB-9000-CD.html\"><img alt=\"310266\" height=\"100\" src=\"t310266.jpg\" title=\"Click for details and comments about this vehicle\" width=\"235\"/></a><a href=\"vehicles_make-SAAB.html\">SAAB</a> <a href=\"vehicles_make-SAAB_model-9000.html\">9000</a> <a href=\"vehicles_make-SAAB_model-9000+CD.html\">CD</a> <span class=\"Stars\"><img alt=\"[*]\" height=\"16\" src=\"/res/star.png\" width=\"15\"/></span></div>,\n",
       " <div class=\"ThumbnailBox\"><a class=\"Thumbnail\" href=\"vehicle_355627-Simca-1308-C6-1976.html\"><img alt=\"355627\" height=\"100\" src=\"t355627.jpg\" title=\"Click for details and comments about this vehicle\" width=\"235\"/></a>1976 <a href=\"vehicles_make-Simca.html\">Simca</a> <a href=\"vehicles_make-Simca_model-1308.html\">1308</a> <span class=\"Stars\"><img alt=\"[*]\" height=\"16\" src=\"/res/star.png\" width=\"15\"/></span></div>,\n",
       " <div class=\"ThumbnailBox\"><a class=\"Thumbnail\" href=\"vehicle_355635-Sterling-Acterra.html\"><img alt=\"355635\" height=\"100\" src=\"t355635.jpg\" title=\"Click for details and comments about this vehicle\" width=\"235\"/></a><a href=\"vehicles_make-Sterling.html\">Sterling</a> <a href=\"vehicles_make-Sterling_model-Acterra.html\">Acterra</a> <span class=\"Stars\"><img alt=\"[*]\" height=\"16\" src=\"/res/star.png\" width=\"15\"/></span></div>,\n",
       " <div class=\"ThumbnailBox\"><a class=\"Thumbnail\" href=\"vehicle_870786-Toyota-Celica-T180-1990.html\"><img alt=\"870786\" height=\"100\" src=\"t870786.jpg\" title=\"Click for details and comments about this vehicle\" width=\"235\"/></a>1990 <a href=\"vehicles_make-Toyota.html\">Toyota</a> <a href=\"vehicles_make-Toyota_model-Celica.html\">Celica</a> <span class=\"Stars\"><img alt=\"[*]\" height=\"16\" src=\"/res/star.png\" width=\"15\"/></span></div>,\n",
       " <div class=\"ThumbnailBox\"><a class=\"Thumbnail\" href=\"vehicle_355642-Toyota-Truck-RN80-1989.html\"><img alt=\"355642\" height=\"100\" src=\"t355642.jpg\" title=\"Click for details and comments about this vehicle\" width=\"235\"/></a>1989 <a href=\"vehicles_make-Toyota.html\">Toyota</a> <a href=\"vehicles_make-Toyota_model-Truck.html\">Truck</a> <span class=\"Stars\"><img alt=\"[*]\" height=\"16\" src=\"/res/star.png\" width=\"15\"/></span></div>,\n",
       " <div class=\"ThumbnailBox\"><a class=\"Thumbnail\" href=\"vehicle_320933-Toyota-Tundra-2008.html\"><img alt=\"320933\" height=\"100\" src=\"t320933.jpg\" title=\"Click for details and comments about this vehicle\" width=\"235\"/></a>2008 <a href=\"vehicles_make-Toyota.html\">Toyota</a> <a href=\"vehicles_make-Toyota_model-Tundra.html\">Tundra</a> <span class=\"Stars\"><img alt=\"[*]\" height=\"16\" src=\"/res/star.png\" width=\"15\"/><img alt=\"[*]\" height=\"16\" src=\"/res/star.png\" width=\"15\"/></span></div>,\n",
       " <div class=\"ThumbnailBox\"><a class=\"Thumbnail\" href=\"vehicle_355636.html\"><img alt=\"355636\" height=\"100\" src=\"t355636.jpg\" title=\"Click for details and comments about this vehicle\" width=\"235\"/></a><a href=\"vehicles_make-unknown.html\">unknown</a> <span class=\"Stars\"><img alt=\"[*]\" height=\"16\" src=\"/res/star.png\" width=\"15\"/></span></div>,\n",
       " <div class=\"ThumbnailBox\"><a class=\"Thumbnail\" href=\"vehicle_355629-Volkswagen-Derby-Typ-86C-1982.html\"><img alt=\"355629\" height=\"100\" src=\"t355629.jpg\" title=\"Click for details and comments about this vehicle\" width=\"235\"/></a>1982 <a href=\"vehicles_make-Volkswagen.html\">Volkswagen</a> <a href=\"vehicles_make-Volkswagen_model-Derby.html\">Derby</a> II [<a href=\"vehicles_make-Volkswagen_model-Typ+86C.html\">Typ 86C</a>] <span class=\"Stars\"><img alt=\"[*]\" height=\"16\" src=\"/res/star.png\" width=\"15\"/></span></div>,\n",
       " <div class=\"ThumbnailBox\"><a class=\"Thumbnail\" href=\"vehicle_355621-Volkswagen-Golf-Typ-1H-1993.html\"><img alt=\"355621\" height=\"100\" src=\"t355621.jpg\" title=\"Click for details and comments about this vehicle\" width=\"235\"/></a>1993 <a href=\"vehicles_make-Volkswagen.html\">Volkswagen</a> <a href=\"vehicles_make-Volkswagen_model-Golf.html\">Golf</a> III [<a href=\"vehicles_make-Volkswagen_model-Typ+1H.html\">Typ 1H</a>] <span class=\"Stars\"><img alt=\"[*]\" height=\"16\" src=\"/res/star.png\" width=\"15\"/></span></div>,\n",
       " <div class=\"ThumbnailBox\"><a class=\"Thumbnail\" href=\"vehicle_355613-Volkswagen-Golf-Plus-Typ-5M-2009.html\"><img alt=\"355613\" height=\"100\" src=\"t355613.jpg\" title=\"Click for details and comments about this vehicle\" width=\"235\"/></a>2009 <a href=\"vehicles_make-Volkswagen.html\">Volkswagen</a> <a href=\"vehicles_make-Volkswagen_model-Golf.html\">Golf</a> <a href=\"vehicles_make-Volkswagen_model-Golf+Plus.html\">Plus</a> [<a href=\"vehicles_make-Volkswagen_model-Typ+5M.html\">Typ 5M</a>] <span class=\"Stars\"><img alt=\"[*]\" height=\"16\" src=\"/res/star.png\" width=\"15\"/></span></div>,\n",
       " <div class=\"ThumbnailBox\"><a class=\"Thumbnail\" href=\"vehicle_310271-Volkswagen-Jetta-Typ-1H-1996.html\"><img alt=\"310271\" height=\"100\" src=\"t310271.jpg\" title=\"Click for details and comments about this vehicle\" width=\"235\"/></a>1996 <a href=\"vehicles_make-Volkswagen.html\">Volkswagen</a> <a href=\"vehicles_make-Volkswagen_model-Jetta.html\">Jetta</a> A3 [<a href=\"vehicles_make-Volkswagen_model-Typ+1H.html\">Typ 1H</a>] <span class=\"Stars\"><img alt=\"[*]\" height=\"16\" src=\"/res/star.png\" width=\"15\"/></span></div>,\n",
       " <div class=\"ThumbnailBox\"><a class=\"Thumbnail\" href=\"vehicle_355641-Volkswagen-New-Beetle-Typ-1C-1999.html\"><img alt=\"355641\" height=\"100\" src=\"t355641.jpg\" title=\"Click for details and comments about this vehicle\" width=\"235\"/></a>1999 <a href=\"vehicles_make-Volkswagen.html\">Volkswagen</a> <a href=\"vehicles_make-Volkswagen_model-New.html\">New</a> <a href=\"vehicles_make-Volkswagen_model-New+Beetle.html\">Beetle</a> [<a href=\"vehicles_make-Volkswagen_model-Typ+1C.html\">Typ 1C</a>] <span class=\"Stars\"><img alt=\"[*]\" height=\"16\" src=\"/res/star.png\" width=\"15\"/></span></div>,\n",
       " <div class=\"ThumbnailBox\"><a class=\"Thumbnail\" href=\"vehicle_355628-Volkswagen-Passat-Typ-32-1978.html\"><img alt=\"355628\" height=\"100\" src=\"t355628.jpg\" title=\"Click for details and comments about this vehicle\" width=\"235\"/></a>1978 <a href=\"vehicles_make-Volkswagen.html\">Volkswagen</a> <a href=\"vehicles_make-Volkswagen_model-Passat.html\">Passat</a> B1 [<a href=\"vehicles_make-Volkswagen_model-Typ+32.html\">Typ 32</a>] <span class=\"Stars\"><img alt=\"[*]\" height=\"16\" src=\"/res/star.png\" width=\"15\"/></span></div>,\n",
       " <div class=\"ThumbnailBox\"><a class=\"Thumbnail\" href=\"vehicle_355640-Volvo-740-745-1986.html\"><img alt=\"355640\" height=\"100\" src=\"t355640.jpg\" title=\"Click for details and comments about this vehicle\" width=\"235\"/></a>1986 <a href=\"vehicles_make-Volvo.html\">Volvo</a> <a href=\"vehicles_make-Volvo_model-740.html\">740</a> <span class=\"Stars\"><img alt=\"[*]\" height=\"16\" src=\"/res/star.png\" width=\"15\"/></span></div>,\n",
       " <div class=\"ThumbnailBox\"><a class=\"Thumbnail\" href=\"vehicle_355643-Volvo-760-764-1986.html\"><img alt=\"355643\" height=\"100\" src=\"t355643.jpg\" title=\"Click for details and comments about this vehicle\" width=\"235\"/></a>1986 <a href=\"vehicles_make-Volvo.html\">Volvo</a> <a href=\"vehicles_make-Volvo_model-760.html\">760</a> <span class=\"Stars\"><img alt=\"[*]\" height=\"16\" src=\"/res/star.png\" width=\"15\"/></span></div>,\n",
       " <div class=\"ThumbnailBox\"><a class=\"Thumbnail\" href=\"vehicle_1299480-Volvo-S40.html\"><img alt=\"1299480\" height=\"100\" src=\"t001299480.jpg\" title=\"Click for details and comments about this vehicle\" width=\"235\"/></a><a href=\"vehicles_make-Volvo.html\">Volvo</a> <a href=\"vehicles_make-Volvo_model-S40.html\">S40</a> <span class=\"Stars\"><img alt=\"[*]\" height=\"16\" src=\"/res/star.png\" width=\"15\"/></span></div>,\n",
       " <div class=\"ThumbnailBox\"><a class=\"Thumbnail\" href=\"vehicle_355651-Volvo-S40-2000.html\"><img alt=\"355651\" height=\"100\" src=\"t355651.jpg\" title=\"Click for details and comments about this vehicle\" width=\"235\"/></a>2000 <a href=\"vehicles_make-Volvo.html\">Volvo</a> <a href=\"vehicles_make-Volvo_model-S40.html\">S40</a> <span class=\"Stars\"><img alt=\"[*]\" height=\"16\" src=\"/res/star.png\" width=\"15\"/></span></div>,\n",
       " <div class=\"ThumbnailBox\"><a class=\"Thumbnail\" href=\"vehicle_1203997-Yamaha.html\"><img alt=\"1203997\" height=\"100\" src=\"t001203997.jpg\" title=\"Click for details and comments about this vehicle\" width=\"235\"/></a><a href=\"vehicles_make-Yamaha.html\">Yamaha</a> <a href=\"vehicles_make-Yamaha_model-unknown.html\">unknown</a> <span class=\"Stars\"><img alt=\"[*]\" height=\"16\" src=\"/res/star.png\" width=\"15\"/></span></div>]"
      ]
     },
     "execution_count": 10,
     "metadata": {},
     "output_type": "execute_result"
    }
   ],
   "source": [
    "# display results\n",
    "results"
   ]
  },
  {
   "cell_type": "code",
   "execution_count": 11,
   "metadata": {},
   "outputs": [
    {
     "name": "stdout",
     "output_type": "stream",
     "text": [
      "1: vehicle_870785-Acura-CL-YA-1998.html, 1 Star(s)\n",
      "2: vehicle_1299489-BMW-3-E30-1984.html, 1 Star(s)\n",
      "3: vehicle_355633-BMW-3-E30-1990.html, 1 Star(s)\n",
      "4: vehicle_320935-BMW-7-E38-1999.html, 2 Star(s)\n",
      "5: vehicle_355662-Buick-LeSabre-1992.html, 1 Star(s)\n",
      "6: vehicle_355638-Buick-LeSabre-GMX220-2000.html, 1 Star(s)\n",
      "7: vehicle_355652-Cadillac-DeVille-1997.html, 1 Star(s)\n",
      "8: vehicle_355650-Chrysler-New-Yorker-1983.html, 1 Star(s)\n",
      "9: vehicle_355614-Citroen-C3-2006.html, 1 Star(s)\n",
      "10: vehicle_1203998-Citroen-C4-2005.html, 1 Star(s)\n",
      "11: vehicle_355620-Citroen-Xantia-1998.html, 1 Star(s)\n",
      "12: vehicle_323949-Daihatsu-Hijet-S80.html, 2 Star(s)\n",
      "13: vehicle_310267-Ducati-Streetfighter.html, 2 Star(s)\n",
      "14: vehicle_355623-Fiat-Ducato-2002.html, 1 Star(s)\n",
      "15: vehicle_355612-Fiat-Grande-Punto-199-2006.html, 1 Star(s)\n",
      "16: vehicle_310270-Ford-Crown-Victoria-2001.html, 3 Star(s)\n",
      "17: vehicle_319274-Ford-E-350-2003.html, 4 Star(s)\n",
      "18: vehicle_1203999-Ford-Fusion-2002.html, 1 Star(s)\n",
      "19: vehicle_355648-Ford-Taurus-DN101-1998.html, 1 Star(s)\n",
      "20: vehicle_355639-Ford-Taurus-SHO-DN5-1993.html, 1 Star(s)\n",
      "21: vehicle_310265-Ford-Thunderbird-1983.html, 1 Star(s)\n",
      "22: vehicle_355634-GMC-RTS-1980.html, 1 Star(s)\n",
      "23: vehicle_319275-Hummer.html, 3 Star(s)\n",
      "24: vehicle_315034-Hyundai-Genesis-BH-2009.html, 3 Star(s)\n",
      "25: vehicle_1204000-Infiniti-I30-A32-1996.html, 1 Star(s)\n",
      "26: vehicle_355644-Infiniti-Q45-G50-1990.html, 1 Star(s)\n",
      "27: vehicle_1203995-Kia-Carens-2003.html, 1 Star(s)\n",
      "28: vehicle_355631-Land-Rover-Range-Rover-Sport-2005.html, 2 Star(s)\n",
      "29: vehicle_320934-Lincoln-Town-Car-1998.html, 2 Star(s)\n",
      "30: vehicle_355637-Mack-Mid-Liner-1987.html, 1 Star(s)\n",
      "31: vehicle_324595-Maybach-57-W240-2003.html, 2 Star(s)\n",
      "32: vehicle_1203996-Mercedes-Benz-A-Klasse-W169-2005.html, 1 Star(s)\n",
      "33: vehicle_355624-Mercedes-Benz-E-Klasse-W212-2009.html, 1 Star(s)\n",
      "34: vehicle_319276-Mercedes-Benz-GL-X164-2007.html, 3 Star(s)\n",
      "35: vehicle_319273-Mercedes-Benz-S-320-W220-2003.html, 2 Star(s)\n",
      "36: vehicle_355632-Mercury-Villager-VX54-1993.html, 1 Star(s)\n",
      "37: vehicle_355622-Mini-1000-ADO20-1980.html, 1 Star(s)\n",
      "38: vehicle_1299481-Nissan-Micra-K11.html, 1 Star(s)\n",
      "39: vehicle_355645-Oldsmobile-Alero-3NL37-1999.html, 1 Star(s)\n",
      "40: vehicle_1299486-Peugeot-107-2009.html, 1 Star(s)\n",
      "41: vehicle_355626-Peugeot-206-1999.html, 1 Star(s)\n",
      "42: vehicle_1299470-Peugeot-306.html, 1 Star(s)\n",
      "43: vehicle_355618-Peugeot-308-T7-2008.html, 1 Star(s)\n",
      "44: vehicle_355619-Peugeot-406-Coupe-1997.html, 1 Star(s)\n",
      "45: vehicle_1299477-Renault-18-X34.html, 1 Star(s)\n",
      "46: vehicle_355615-Renault-Clio-X85-2010.html, 1 Star(s)\n",
      "47: vehicle_310268-Renault-Master-1998.html, 1 Star(s)\n",
      "48: vehicle_310269-Renault-Twingo-X06-1993.html, 1 Star(s)\n",
      "49: vehicle_323761-SAAB-900-1987.html, 1 Star(s)\n",
      "50: vehicle_310266-SAAB-9000-CD.html, 1 Star(s)\n",
      "51: vehicle_355627-Simca-1308-C6-1976.html, 1 Star(s)\n",
      "52: vehicle_355635-Sterling-Acterra.html, 1 Star(s)\n",
      "53: vehicle_870786-Toyota-Celica-T180-1990.html, 1 Star(s)\n",
      "54: vehicle_355642-Toyota-Truck-RN80-1989.html, 1 Star(s)\n",
      "55: vehicle_320933-Toyota-Tundra-2008.html, 2 Star(s)\n",
      "56: vehicle_355636.html, 1 Star(s)\n",
      "57: vehicle_355629-Volkswagen-Derby-Typ-86C-1982.html, 1 Star(s)\n",
      "58: vehicle_355621-Volkswagen-Golf-Typ-1H-1993.html, 1 Star(s)\n",
      "59: vehicle_355613-Volkswagen-Golf-Plus-Typ-5M-2009.html, 1 Star(s)\n",
      "60: vehicle_310271-Volkswagen-Jetta-Typ-1H-1996.html, 1 Star(s)\n",
      "61: vehicle_355641-Volkswagen-New-Beetle-Typ-1C-1999.html, 1 Star(s)\n",
      "62: vehicle_355628-Volkswagen-Passat-Typ-32-1978.html, 1 Star(s)\n",
      "63: vehicle_355640-Volvo-740-745-1986.html, 1 Star(s)\n",
      "64: vehicle_355643-Volvo-760-764-1986.html, 1 Star(s)\n",
      "65: vehicle_1299480-Volvo-S40.html, 1 Star(s)\n",
      "66: vehicle_355651-Volvo-S40-2000.html, 1 Star(s)\n",
      "67: vehicle_1203997-Yamaha.html, 1 Star(s)\n"
     ]
    }
   ],
   "source": [
    "# test iteration for parsing relevant car data links and star ratings from results\n",
    "count = 0\n",
    "for result in results:\n",
    "    x = result.find('span', class_='Stars')\n",
    "    y = len(x)\n",
    "    z = result.find('a')['href']\n",
    "    count = count + 1\n",
    "    print(f\"{count}: {z}, {y} Star(s)\")"
   ]
  },
  {
   "cell_type": "code",
   "execution_count": 12,
   "metadata": {},
   "outputs": [
    {
     "name": "stdout",
     "output_type": "stream",
     "text": [
      "1:  Acura CL\n",
      "2:  BMW 3 E30\n",
      "3:  BMW 3 E30\n",
      "4:  BMW 7 E38\n",
      "5:  Buick LeSabre\n",
      "6:  Buick LeSabre\n",
      "7:  Cadillac DeVille\n",
      "8:  Chrysler New Yorker\n",
      "9:  Citroën C3\n",
      "10:  Citroën C4\n",
      "11:  Citroën Xantia\n",
      "12:  Daihatsu Hijet\n",
      "13:  Ducati Streetfighter\n",
      "14:  Fiat Ducato\n",
      "15:  Fiat Grande Punto\n",
      "16:  Ford Crown Victoria\n",
      "17:  Ford E 350\n",
      "18:  Ford Fusion\n",
      "19:  Ford Taurus\n",
      "20:  Ford Taurus SHO\n",
      "21:  Ford Thunderbird\n",
      "22:  GMC RTS\n",
      "23:  Hummer\n",
      "24:  Hyundai Genesis\n",
      "25:  Infiniti I30\n",
      "26:  Infiniti Q45\n",
      "27:  Kia Carens\n",
      "28:  Land-Rover Range Rover Sport\n",
      "29:  Lincoln Town Car\n",
      "30:  Mack Mid Liner\n",
      "31:  Maybach 57 W240\n",
      "32:  Mercedes-Benz A Klasse W169\n",
      "33:  Mercedes-Benz E Klasse W212\n",
      "34:  Mercedes-Benz GL X164\n",
      "35:  Mercedes-Benz S 320 W220\n",
      "36:  Mercury Villager\n",
      "37:  Mini 1000\n",
      "38:  Nissan Micra\n",
      "39:  Oldsmobile Alero\n",
      "40:  Peugeot 107\n",
      "41:  Peugeot 206\n",
      "42:  Peugeot 306\n",
      "43:  Peugeot 308\n",
      "44:  Peugeot 406 Coupé\n",
      "45:  Renault 18\n",
      "46:  Renault Clio\n",
      "47:  Renault Master\n",
      "48:  Renault Twingo\n",
      "49:  SAAB 900\n",
      "50:  SAAB 9000 CD\n",
      "51:  Simca 1308\n",
      "52:  Sterling Acterra\n",
      "53:  Toyota Celica\n",
      "54:  Toyota Truck\n",
      "55:  Toyota Tundra\n",
      "56:  unknown\n",
      "57:  Volkswagen Derby Typ 86C\n",
      "58:  Volkswagen Golf Typ 1H\n",
      "59:  Volkswagen Golf Plus Typ 5M\n",
      "60:  Volkswagen Jetta Typ 1H\n",
      "61:  Volkswagen New Beetle Typ 1C\n",
      "62:  Volkswagen Passat Typ 32\n",
      "63:  Volvo 740\n",
      "64:  Volvo 760\n",
      "65:  Volvo S40\n",
      "66:  Volvo S40\n",
      "67:  Yamaha unknown\n"
     ]
    }
   ],
   "source": [
    "# test iteration for parsing car make and model from results\n",
    "count = 0\n",
    "for result in results:\n",
    "    vehicles = result.find_all('a')\n",
    "    #vehicles.pop(0)\n",
    "    car_info = []\n",
    "    for ele in vehicles:\n",
    "        ele_text = ele.text\n",
    "        car_info.append(ele_text)\n",
    "    car_infos = \" \"\n",
    "    info_string = car_infos.join(car_info)\n",
    "    count = count + 1\n",
    "    print(f\"{count}: {info_string}\")"
   ]
  },
  {
   "cell_type": "code",
   "execution_count": 13,
   "metadata": {},
   "outputs": [
    {
     "name": "stdout",
     "output_type": "stream",
     "text": [
      "1: 1998 Acura CL \n",
      "2: 1984 BMW 3 [E30] \n",
      "3: 1990 BMW 3 [E30] \n",
      "4: 1999 BMW 7 [E38] \n",
      "5: 1992 Buick LeSabre \n",
      "6: 2000 Buick LeSabre \n",
      "7: 1997 Cadillac DeVille \n",
      "8: 1983 Chrysler New Yorker \n",
      "9: 2006 Citroën C3 \n",
      "10: 2005 Citroën C4 \n",
      "11: 1998 Citroën Xantia \n",
      "12: Daihatsu Hijet \n",
      "13: Ducati Streetfighter \n",
      "14: 2002 Fiat Ducato \n",
      "15: 2006 Fiat Grande Punto \n",
      "16: 2001 Ford Crown Victoria \n",
      "17: 2003 Ford E-350 \n",
      "18: 2002 Ford Fusion \n",
      "19: 1998 Ford Taurus \n",
      "20: 1993 Ford Taurus SHO \n",
      "21: 1983 Ford Thunderbird \n",
      "22: 1980 GMC RTS \n",
      "23: Hummer \n",
      "24: 2009 Hyundai Genesis \n",
      "25: 1996 Infiniti I30 \n",
      "26: 1990 Infiniti Q45 \n",
      "27: 2003 Kia Carens \n",
      "28: 2005 Land-Rover Range Rover Sport \n",
      "29: 1998 Lincoln Town Car \n",
      "30: 1987 Mack Mid-Liner \n",
      "31: 2003 Maybach 57 [W240] \n",
      "32: 2005 Mercedes-Benz A-Klasse [W169] \n",
      "33: 2009 Mercedes-Benz E-Klasse [W212] \n",
      "34: 2007 Mercedes-Benz GL [X164] \n",
      "35: 2003 Mercedes-Benz S 320 [W220] \n",
      "36: 1993 Mercury Villager \n",
      "37: 1980 Mini 1000 MkIV \n",
      "38: Nissan Micra \n",
      "39: 1999 Oldsmobile Alero \n",
      "40: 2009 Peugeot 107 \n",
      "41: 1999 Peugeot 206 \n",
      "42: Peugeot 306 \n",
      "43: 2008 Peugeot 308 \n",
      "44: 1997 Peugeot 406 Coupé \n",
      "45: Renault 18 \n",
      "46: 2010 Renault Clio 3 \n",
      "47: 1998 Renault Master \n",
      "48: 1993 Renault Twingo \n",
      "49: 1987 SAAB 900 \n",
      "50: SAAB 9000 CD \n",
      "51: 1976 Simca 1308 \n",
      "52: Sterling Acterra \n",
      "53: 1990 Toyota Celica \n",
      "54: 1989 Toyota Truck \n",
      "55: 2008 Toyota Tundra \n",
      "56: unknown \n",
      "57: 1982 Volkswagen Derby II [Typ 86C] \n",
      "58: 1993 Volkswagen Golf III [Typ 1H] \n",
      "59: 2009 Volkswagen Golf Plus [Typ 5M] \n",
      "60: 1996 Volkswagen Jetta A3 [Typ 1H] \n",
      "61: 1999 Volkswagen New Beetle [Typ 1C] \n",
      "62: 1978 Volkswagen Passat B1 [Typ 32] \n",
      "63: 1986 Volvo 740 \n",
      "64: 1986 Volvo 760 \n",
      "65: Volvo S40 \n",
      "66: 2000 Volvo S40 \n",
      "67: Yamaha unknown \n"
     ]
    }
   ],
   "source": [
    "# test iteration for parsing car year\n",
    "count = 0\n",
    "for result in results:\n",
    "    a = result.text\n",
    "    count += 1\n",
    "    print(f\"{count}: {a}\")"
   ]
  },
  {
   "cell_type": "markdown",
   "metadata": {},
   "source": [
    "## Second Trial Run to Grab Data"
   ]
  },
  {
   "cell_type": "code",
   "execution_count": 14,
   "metadata": {},
   "outputs": [],
   "source": [
    "# revisit https://www.imcdb.org/ website url\n",
    "url = \"https://www.imcdb.org/\"\n",
    "browser.visit(url)"
   ]
  },
  {
   "cell_type": "code",
   "execution_count": 15,
   "metadata": {},
   "outputs": [],
   "source": [
    "# testing a movie with no car data or multiple movie results, to handle expected issues with scraping\n",
    "browser.find_by_css('input').fill('Avatar')"
   ]
  },
  {
   "cell_type": "code",
   "execution_count": 16,
   "metadata": {},
   "outputs": [],
   "source": [
    "browser.find_by_value('Search').click()"
   ]
  },
  {
   "cell_type": "code",
   "execution_count": 17,
   "metadata": {},
   "outputs": [],
   "source": [
    "# HTML and soup object have to be recreated to scrape new results\n",
    "html = browser.html\n",
    "soup = bs(html, 'html.parser')"
   ]
  },
  {
   "cell_type": "code",
   "execution_count": 18,
   "metadata": {},
   "outputs": [
    {
     "name": "stdout",
     "output_type": "stream",
     "text": [
      "Not good yet...\n"
     ]
    }
   ],
   "source": [
    "# handle issue#1 with multiple search results returned:\n",
    "# if data is found, the results are preserved\n",
    "# if no data is found, click the link for our specific movie\n",
    "results = soup.find_all('div', class_='ThumbnailBox')\n",
    "if len(results) != 0:\n",
    "    print(\"Everything good.\")\n",
    "    good = 1\n",
    "else:\n",
    "    good = 0\n",
    "    print(\"Not good yet...\")\n",
    "    # handles issue#4 with no results found for the search\n",
    "    try:\n",
    "        browser.links.find_by_text('Avatar').click()\n",
    "    except:\n",
    "        print(\"No data for the movie.\")\n",
    "        good = 0\n",
    "        #continue"
   ]
  },
  {
   "cell_type": "code",
   "execution_count": 19,
   "metadata": {},
   "outputs": [
    {
     "name": "stdout",
     "output_type": "stream",
     "text": [
      "Not good at all: no car data.\n"
     ]
    }
   ],
   "source": [
    "# conditional statement that handles the outcome ('good') in preceding statement:\n",
    "# if our initial search returned data, outcome ('good2') passes\n",
    "# if an extra step was taken to find our data, do another data check\n",
    "if good == 1:\n",
    "    good2 = 1\n",
    "    print(\"Everything still good.\")\n",
    "else:\n",
    "    html = browser.html\n",
    "    soup = bs(html, 'html.parser')\n",
    "    results = soup.find_all('div', class_='ThumbnailBox')\n",
    "    if len(results) != 0:\n",
    "        good2 = 1\n",
    "        print(\"Everything good now.\")\n",
    "    else:\n",
    "        good2 = 0\n",
    "        print(\"Not good at all: no car data.\")"
   ]
  },
  {
   "cell_type": "code",
   "execution_count": 20,
   "metadata": {},
   "outputs": [],
   "source": [
    "# the preceding conditional statements have sorted out whether we have a page with car data (issue#2)\n",
    "# if things are still 'good', iterate and display relevant car data from results\n",
    "# otherwise things end here, and we can start the process over with the next film\n",
    "if good2 == 1:\n",
    "    print(\"Parsing through results...\")\n",
    "    count = 0\n",
    "    for result in results:\n",
    "        # handle issue#3 with unavailable 'star' data\n",
    "        try:\n",
    "            x = result.find('span', class_='Stars')\n",
    "            y = len(x)\n",
    "            z = result.find('a')['href']\n",
    "            info_string = result.text\n",
    "            count += 1\n",
    "            print(f\"{count}: {info_string}, https://www.imcdb.org/{z}, {y} Star(s)\")\n",
    "        except:\n",
    "            y = 'Nan'\n",
    "            z = result.find('a')['href']\n",
    "            info_string = result.text\n",
    "            count += 1\n",
    "            print(f\"{count}: {info_string}, https://www.imcdb.org/{z}, {y} Star(s)\")\n",
    "else:\n",
    "    pass"
   ]
  },
  {
   "cell_type": "markdown",
   "metadata": {},
   "source": [
    "## Testing Different Movies Below, all Four Issues Resolved"
   ]
  },
  {
   "cell_type": "code",
   "execution_count": 21,
   "metadata": {},
   "outputs": [],
   "source": [
    "# At this point, the micro decision tree is in a format closer to our future scraper function\n",
    "# ...and requires testing on movies without expected issues (initial search successful, data to display)\n",
    "url = \"https://www.imcdb.org/\"\n",
    "browser.visit(url)"
   ]
  },
  {
   "cell_type": "code",
   "execution_count": 22,
   "metadata": {},
   "outputs": [],
   "source": [
    "browser.find_by_css('input').fill('The Twilight Saga: Eclipse')"
   ]
  },
  {
   "cell_type": "code",
   "execution_count": 23,
   "metadata": {},
   "outputs": [],
   "source": [
    "browser.find_by_value('Search').click()"
   ]
  },
  {
   "cell_type": "code",
   "execution_count": 24,
   "metadata": {},
   "outputs": [],
   "source": [
    "# create HTML object\n",
    "html = browser.html\n",
    "# parse HTML with BeautifulSoup\n",
    "soup = bs(html, 'html.parser')"
   ]
  },
  {
   "cell_type": "code",
   "execution_count": 25,
   "metadata": {},
   "outputs": [
    {
     "name": "stdout",
     "output_type": "stream",
     "text": [
      "Everything good.\n"
     ]
    }
   ],
   "source": [
    "# attempt to find elements that contain car data\n",
    "results = soup.find_all('div', class_='ThumbnailBox')\n",
    "if len(results) != 0:\n",
    "    print(\"Everything good.\")\n",
    "    good = 1\n",
    "else:\n",
    "    good = 0\n",
    "    print(\"Not good yet...\")\n",
    "    # handles issue#4 with no results found for the search\n",
    "    try:\n",
    "        browser.links.find_by_text('The Twilight Saga: Eclipse').click()\n",
    "    except:\n",
    "        print(\"No data for the movie.\")\n",
    "        good = 0\n",
    "        #continue"
   ]
  },
  {
   "cell_type": "code",
   "execution_count": 26,
   "metadata": {},
   "outputs": [
    {
     "name": "stdout",
     "output_type": "stream",
     "text": [
      "Everything still good.\n",
      "Parsing through results...\n",
      "1: 1963 Chevrolet C-10 , https://www.imcdb.org/vehicle_359171-Chevrolet-C-10-1963.html, 2 Star(s)\n",
      "2: 1978 Chevrolet Caprice Classic , https://www.imcdb.org/vehicle_359184-Chevrolet-Caprice-Classic-1978.html, 2 Star(s)\n",
      "3: 1997 Chevrolet K-1500 , https://www.imcdb.org/vehicle_359186-Chevrolet-K-1500-GMT400-1997.html, 1 Star(s)\n",
      "4: 1980 Ford Bronco , https://www.imcdb.org/vehicle_359189-Ford-Bronco-1980.html, 1 Star(s)\n",
      "5: 1998 Ford Crown Victoria , https://www.imcdb.org/vehicle_359176-Ford-Crown-Victoria-1998.html, 1 Star(s)\n",
      "6: 1999 Ford Crown Victoria , https://www.imcdb.org/vehicle_359174-Ford-Crown-Victoria-P71-1999.html, 1 Star(s)\n",
      "7: 1980 Ford F-Series , https://www.imcdb.org/vehicle_1324299-Ford-F-Series-1980.html, 1 Star(s)\n",
      "8: 2001 Honda Civic , https://www.imcdb.org/vehicle_1324301-Honda-Civic-ES-2001.html, 1 Star(s)\n",
      "9: IC CE , https://www.imcdb.org/vehicle_359194-IC-CE.html, 1 Star(s)\n",
      "10: 2007 Jeep Wrangler Unlimited , https://www.imcdb.org/vehicle_359178-Jeep-Wrangler-Unlimited-JK-2007.html, 2 Star(s)\n",
      "11: 2007 Mercedes-Benz S 550 [W221] , https://www.imcdb.org/vehicle_359191-Mercedes-Benz-S-550-W221-2007.html, 1 Star(s)\n",
      "12: 1982 Oldsmobile Cutlass Ciera , https://www.imcdb.org/vehicle_1324298-Oldsmobile-Cutlass-Ciera-1982.html, 1 Star(s)\n",
      "13: 2009 Porsche 911 Carrera [997] , https://www.imcdb.org/vehicle_359198-Porsche-911-Carrera-997-2009.html, 1 Star(s)\n",
      "14: 1995 Toyota Tercel , https://www.imcdb.org/vehicle_1324300-Toyota-Tercel-EL53-1995.html, 1 Star(s)\n",
      "15: unknown , https://www.imcdb.org/vehicle_359181.html, 1 Star(s)\n",
      "16: 1996 Volkswagen Jetta A3 [Typ 1H] , https://www.imcdb.org/vehicle_359197-Volkswagen-Jetta-Typ-1H-1996.html, 1 Star(s)\n",
      "17: 1981 Volkswagen Rabbit I [Typ 17] , https://www.imcdb.org/vehicle_315725-Volkswagen-Rabbit-Typ-17-1981.html, 2 Star(s)\n",
      "18: 2010 Volvo XC60 , https://www.imcdb.org/vehicle_359180-Volvo-XC60-2010.html, 3 Star(s)\n",
      "19: Yamaha TW 200 , https://www.imcdb.org/vehicle_359195-Yamaha-TW-200.html, 2 Star(s)\n"
     ]
    }
   ],
   "source": [
    "if good == 1:\n",
    "    good2 = 1\n",
    "    print(\"Everything still good.\")\n",
    "else:\n",
    "    html = browser.html\n",
    "    soup = bs(html, 'html.parser')\n",
    "    results = soup.find_all('div', class_='ThumbnailBox')\n",
    "    if len(results) != 0:\n",
    "        good2 = 1\n",
    "        print(\"Everything good now.\")\n",
    "    else:\n",
    "        good2 = 0\n",
    "        print(\"Not good at all: no car data.\")\n",
    "if good2 == 1:\n",
    "    print(\"Parsing through results...\")\n",
    "    count = 0\n",
    "    for result in results:\n",
    "        # handle issue#3 with unavailable 'star' data\n",
    "        try:\n",
    "            x = result.find('span', class_='Stars')\n",
    "            y = len(x)\n",
    "            z = result.find('a')['href']\n",
    "            info_string = result.text\n",
    "            count += 1\n",
    "            print(f\"{count}: {info_string}, https://www.imcdb.org/{z}, {y} Star(s)\")\n",
    "        except:\n",
    "            y = 'Nan'\n",
    "            z = result.find('a')['href']\n",
    "            info_string = result.text\n",
    "            count += 1\n",
    "            print(f\"{count}: {info_string}, https://www.imcdb.org/{z}, {y} Star(s)\")\n",
    "else:\n",
    "    pass"
   ]
  },
  {
   "cell_type": "code",
   "execution_count": 27,
   "metadata": {},
   "outputs": [],
   "source": [
    "browser.quit()"
   ]
  },
  {
   "cell_type": "code",
   "execution_count": null,
   "metadata": {},
   "outputs": [],
   "source": []
  }
 ],
 "metadata": {
  "kernelspec": {
   "display_name": "Python 3",
   "language": "python",
   "name": "python3"
  },
  "language_info": {
   "codemirror_mode": {
    "name": "ipython",
    "version": 3
   },
   "file_extension": ".py",
   "mimetype": "text/x-python",
   "name": "python",
   "nbconvert_exporter": "python",
   "pygments_lexer": "ipython3",
   "version": "3.8.3"
  }
 },
 "nbformat": 4,
 "nbformat_minor": 4
}
