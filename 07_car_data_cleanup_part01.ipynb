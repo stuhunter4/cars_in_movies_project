{
 "cells": [
  {
   "cell_type": "code",
   "execution_count": 1,
   "metadata": {},
   "outputs": [],
   "source": [
    "import pandas as pd\n",
    "import numpy as np"
   ]
  },
  {
   "cell_type": "code",
   "execution_count": 2,
   "metadata": {},
   "outputs": [],
   "source": [
    "# read in all of the car sales datasets\n",
    "raw_2010 = pd.read_csv(\"output_data/raw/car sales/2021_03_15_bestcars2010.csv\")\n",
    "raw_2011 = pd.read_csv(\"output_data/raw/car sales/2021_03_15_bestcars2011.csv\")\n",
    "raw_2012 = pd.read_csv(\"output_data/raw/car sales/2021_03_15_bestcars2012.csv\")\n",
    "raw_2013 = pd.read_csv(\"output_data/raw/car sales/2021_03_15_bestcars2013.csv\")\n",
    "raw_2014 = pd.read_csv(\"output_data/raw/car sales/2021_03_15_bestcars2014.csv\")\n",
    "\n",
    "raw_2015 = pd.read_csv(\"output_data/raw/car sales/2021_03_15_bestcars2015.csv\")\n",
    "raw_2016 = pd.read_csv(\"output_data/raw/car sales/2021_03_15_bestcars2016.csv\")\n",
    "raw_2017 = pd.read_csv(\"output_data/raw/car sales/2021_03_15_bestcars2017.csv\")\n",
    "raw_2018 = pd.read_csv(\"output_data/raw/car sales/2021_03_15_bestcars2018.csv\")\n",
    "raw_2019 = pd.read_csv(\"output_data/raw/car sales/2021_03_15_bestcars2019months.csv\")\n",
    "raw_2020 = pd.read_csv(\"output_data/raw/car sales/2021_03_15_bestcars2020.csv\")"
   ]
  },
  {
   "cell_type": "markdown",
   "metadata": {},
   "source": [
    "# Create clean DataFrames\n",
    "Collecting data for: Vehicle, Year End Volume, Last Year End Volume, and Percent Change"
   ]
  },
  {
   "cell_type": "markdown",
   "metadata": {},
   "source": [
    "### 2010"
   ]
  },
  {
   "cell_type": "code",
   "execution_count": null,
   "metadata": {},
   "outputs": [],
   "source": [
    "# rename columns to create DataFrame with only the columns we need\n",
    "raw_2010.columns = [\"Rank\", \"Vehicle\", \"2010 Year End\", \"2009 Year End\", \"% Change 2010\"]\n",
    "clean_2010 = raw_2010[[\"Vehicle\", \"2010 Year End\", \"2009 Year End\", \"% Change 2010\"]]\n",
    "\n",
    "# drop last rows without individual vehicles by index labels\n",
    "clean_2010 = clean_2010.drop(np.arange(283, 288, 1))"
   ]
  },
  {
   "cell_type": "code",
   "execution_count": null,
   "metadata": {},
   "outputs": [],
   "source": [
    "# clean columns with string replace\n",
    "clean_2010[\"% Change 2010\"] = clean_2010[\"% Change 2010\"].str.replace(\"+\", \"\")\n",
    "clean_2010[\"% Change 2010\"] = clean_2010[\"% Change 2010\"].str.replace(\"–\", \"\")\n",
    "clean_2010[\"% Change 2010\"] = clean_2010[\"% Change 2010\"].str.replace(\"%\", \"\")\n",
    "clean_2010[\"% Change 2010\"] = clean_2010[\"% Change 2010\"].str.replace(\"—\", \"0\")\n",
    "\n",
    "clean_2010[\"2009 Year End\"] = clean_2010[\"2009 Year End\"].str.replace(\"+\", \"\")\n",
    "clean_2010[\"2009 Year End\"] = clean_2010[\"2009 Year End\"].str.replace(\"—–\", \"0\")"
   ]
  },
  {
   "cell_type": "code",
   "execution_count": null,
   "metadata": {},
   "outputs": [],
   "source": [
    "# convert columns from object to integer and float\n",
    "clean_2010[\"2010 Year End\"] = clean_2010[\"2010 Year End\"].astype(int)\n",
    "clean_2010[\"2009 Year End\"] = clean_2010[\"2009 Year End\"].astype(int)\n",
    "clean_2010[\"% Change 2010\"] = clean_2010[\"% Change 2010\"].astype(float)"
   ]
  },
  {
   "cell_type": "code",
   "execution_count": null,
   "metadata": {},
   "outputs": [],
   "source": [
    "clean_2010"
   ]
  },
  {
   "cell_type": "markdown",
   "metadata": {},
   "source": [
    "### 2011"
   ]
  },
  {
   "cell_type": "code",
   "execution_count": null,
   "metadata": {},
   "outputs": [],
   "source": [
    "# same operations for 2011\n",
    "raw_2011.columns = [\"Rank\", \"Vehicle\", \"2011 Year End\", \"2010 Year End\", \"% Change 2011\"]\n",
    "clean_2011 = raw_2011[[\"Vehicle\", \"2011 Year End\", \"2010 Year End\", \"% Change 2011\"]]"
   ]
  },
  {
   "cell_type": "code",
   "execution_count": null,
   "metadata": {},
   "outputs": [],
   "source": [
    "clean_2011 = clean_2011.drop(np.arange(267, 272, 1))\n",
    "\n",
    "clean_2011[\"% Change 2011\"] = clean_2011[\"% Change 2011\"].str.replace(\"+\", \"\")\n",
    "clean_2011[\"% Change 2011\"] = clean_2011[\"% Change 2011\"].str.replace(\"–\", \"\")\n",
    "clean_2011[\"% Change 2011\"] = clean_2011[\"% Change 2011\"].str.replace(\"%\", \"\")\n",
    "clean_2011[\"% Change 2011\"] = clean_2011[\"% Change 2011\"].str.replace(\"—–\", \"0\")\n",
    "clean_2011[\"% Change 2011\"] = clean_2011[\"% Change 2011\"].str.replace(\"—\", \"0\")\n",
    "clean_2011[\"% Change 2011\"] = clean_2011[\"% Change 2011\"].str.replace(\",\", \"\")\n",
    "\n",
    "clean_2011[\"2010 Year End\"] = clean_2011[\"2010 Year End\"].str.replace(\"—–\", \"0\")\n",
    "\n",
    "clean_2011[\"2011 Year End\"] = clean_2011[\"2011 Year End\"].astype(int)\n",
    "clean_2011[\"2010 Year End\"] = clean_2011[\"2010 Year End\"].astype(int)\n",
    "clean_2011[\"% Change 2011\"] = clean_2011[\"% Change 2011\"].astype(float)"
   ]
  },
  {
   "cell_type": "code",
   "execution_count": null,
   "metadata": {},
   "outputs": [],
   "source": [
    "clean_2011"
   ]
  },
  {
   "cell_type": "markdown",
   "metadata": {},
   "source": [
    "### 2012"
   ]
  },
  {
   "cell_type": "code",
   "execution_count": null,
   "metadata": {},
   "outputs": [],
   "source": [
    "raw_2012.columns = [\"Rank12\", \"Rank11\", \"Vehicle\", \"2012 Year End\", \"2011 Year End\", \"% Change 2012\"]\n",
    "clean_2012 = raw_2012[[\"Vehicle\", \"2012 Year End\", \"2011 Year End\", \"% Change 2012\"]]"
   ]
  },
  {
   "cell_type": "code",
   "execution_count": null,
   "metadata": {},
   "outputs": [],
   "source": [
    "clean_2012 = clean_2012.drop(np.arange(312, 317, 1))"
   ]
  },
  {
   "cell_type": "code",
   "execution_count": null,
   "metadata": {},
   "outputs": [],
   "source": [
    "clean_2012[\"% Change 2012\"] = clean_2012[\"% Change 2012\"].str.replace(\"+\", \"\")\n",
    "clean_2012[\"% Change 2012\"] = clean_2012[\"% Change 2012\"].str.replace(\"–\", \"\")\n",
    "clean_2012[\"% Change 2012\"] = clean_2012[\"% Change 2012\"].str.replace(\"%\", \"\")\n",
    "clean_2012[\"% Change 2012\"] = clean_2012[\"% Change 2012\"].str.replace(\"—\", \"0\")\n",
    "clean_2012[\"% Change 2012\"] = clean_2012[\"% Change 2012\"].str.replace(\"—–\", \"0\")\n",
    "clean_2012[\"% Change 2012\"] = clean_2012[\"% Change 2012\"].str.replace(\",\", \"\")\n",
    "\n",
    "clean_2012[\"2012 Year End\"] = clean_2012[\"2012 Year End\"].str.replace(\"—–\", \"0\")\n",
    "clean_2012[\"2011 Year End\"] = clean_2012[\"2011 Year End\"].str.replace(\"—–\", \"0\")"
   ]
  },
  {
   "cell_type": "code",
   "execution_count": null,
   "metadata": {},
   "outputs": [],
   "source": [
    "clean_2012[\"2012 Year End\"] = clean_2012[\"2012 Year End\"].astype(int)\n",
    "clean_2012[\"2011 Year End\"] = clean_2012[\"2011 Year End\"].astype(int)\n",
    "clean_2012[\"% Change 2012\"] = clean_2012[\"% Change 2012\"].astype(float)"
   ]
  },
  {
   "cell_type": "code",
   "execution_count": null,
   "metadata": {},
   "outputs": [],
   "source": [
    "clean_2012"
   ]
  },
  {
   "cell_type": "markdown",
   "metadata": {},
   "source": [
    "### 2013"
   ]
  },
  {
   "cell_type": "code",
   "execution_count": 3,
   "metadata": {},
   "outputs": [],
   "source": [
    "raw_2013.columns = [\"Rank\", \"Vehicle\", \"2013 Year End\", \"2012 Year End\", \"% Change 2013\", \"Dec13\", \"Dec12\", \"%Ch.1\"]\n",
    "clean_2013 = raw_2013[[\"Vehicle\", \"2013 Year End\", \"2012 Year End\", \"% Change 2013\"]]"
   ]
  },
  {
   "cell_type": "code",
   "execution_count": null,
   "metadata": {},
   "outputs": [],
   "source": []
  },
  {
   "cell_type": "code",
   "execution_count": null,
   "metadata": {},
   "outputs": [],
   "source": []
  },
  {
   "cell_type": "code",
   "execution_count": null,
   "metadata": {},
   "outputs": [],
   "source": []
  },
  {
   "cell_type": "markdown",
   "metadata": {},
   "source": [
    "### 2014"
   ]
  },
  {
   "cell_type": "code",
   "execution_count": null,
   "metadata": {},
   "outputs": [],
   "source": [
    "raw_2014.columns = [\"Rank\", \"Vehicle\", \"2014 Year End\", \"2013 Year End\", \"% Change 2014\", \"Dec14\", \"Dec13\", \"%Ch.1\"]\n",
    "clean_2014 = raw_2014[[\"Vehicle\", \"2014 Year End\", \"2013 Year End\", \"% Change 2014\"]]"
   ]
  },
  {
   "cell_type": "code",
   "execution_count": null,
   "metadata": {},
   "outputs": [],
   "source": []
  },
  {
   "cell_type": "code",
   "execution_count": null,
   "metadata": {},
   "outputs": [],
   "source": []
  },
  {
   "cell_type": "markdown",
   "metadata": {},
   "source": [
    "### 2015"
   ]
  },
  {
   "cell_type": "code",
   "execution_count": null,
   "metadata": {},
   "outputs": [],
   "source": [
    "raw_2015.columns = [\"Rank\", \"Vehicle\", \"2015 Year End\", \"2014 Year End\", \"% Change 2015\", \"Dec15\", \"Dec14\", \"%Ch.1\"]\n",
    "clean_2015 = raw_2015[[\"Vehicle\", \"2015 Year End\", \"2014 Year End\", \"% Change 2015\"]]"
   ]
  },
  {
   "cell_type": "code",
   "execution_count": null,
   "metadata": {},
   "outputs": [],
   "source": []
  },
  {
   "cell_type": "code",
   "execution_count": null,
   "metadata": {},
   "outputs": [],
   "source": []
  },
  {
   "cell_type": "code",
   "execution_count": null,
   "metadata": {},
   "outputs": [],
   "source": []
  },
  {
   "cell_type": "code",
   "execution_count": null,
   "metadata": {},
   "outputs": [],
   "source": []
  },
  {
   "cell_type": "code",
   "execution_count": null,
   "metadata": {},
   "outputs": [],
   "source": [
    "\n",
    "\n",
    "\n",
    "\n",
    "\n",
    "\n",
    "\n",
    "\n",
    "raw_2016.columns = [\"Rank\", \"Vehicle\", \"2016 Year End\", \"2015 Year End\", \"% Change 2016\", \"Dec16\", \"Dec15\", \"%Ch.1\"]\n",
    "clean_2016 = raw_2016[[\"Vehicle\", \"2016 Year End\", \"2015 Year End\", \"% Change 2016\"]]\n",
    "\n",
    "raw_2017.columns = [\"Vehicle\", \"US\", \"US LY\", \"USvLY\", \"2017 Year End\", \"2016 Year End\", \"% Change 2017\"]\n",
    "clean_2017 = raw_2017[[\"Vehicle\", \"2017 Year End\", \"2016 Year End\", \"% Change 2017\"]]\n",
    "\n",
    "raw_2018.columns = [\"Vehicle\", \"Month\", \"Month LY\", \"Month Change\", \"2018 Year End\", \"2017 Year End\", \"% Change 2018\"]\n",
    "clean_2018 = raw_2018[[\"Vehicle\", \"2018 Year End\", \"2017 Year End\", \"% Change 2018\"]]\n",
    "#clean_2018 = clean_2018.sort_values(\"2018 Year End\")\n",
    "#clean_2018 = clean_2018.reset_index(drop=True)\n",
    "\n",
    "raw_2019.columns = [\"Vehicle\", \"Month\", \"Month LY\", \"Month Change\", \"2019 Year End\", \"2018 Year End\", \"% Change 2019\"]\n",
    "clean_2019 = raw_2019[[\"Vehicle\", \"2019 Year End\", \"2018 Year End\", \"% Change 2019\"]]\n",
    "# sort by Year End\n",
    "#clean_2019 = clean_2019.sort_values(\"2019 Year End\")\n",
    "# reset index after sorting\n",
    "#clean_2019 = clean_2019.reset_index(drop=True)"
   ]
  },
  {
   "cell_type": "markdown",
   "metadata": {},
   "source": [
    "### 2020"
   ]
  },
  {
   "cell_type": "code",
   "execution_count": null,
   "metadata": {},
   "outputs": [],
   "source": [
    "raw_2019.columns = [\"Vehicle\", \"Month\", \"Month LY\", \"Month Change\", \"2019 Year End\", \"2018 Year End\", \"% Change 2019\"]\n",
    "clean_2019 = raw_2019[[\"Vehicle\", \"2019 Year End\", \"2018 Year End\", \"% Change 2019\"]]"
   ]
  },
  {
   "cell_type": "code",
   "execution_count": null,
   "metadata": {},
   "outputs": [],
   "source": [
    "# drop last two rows by index labels\n",
    "cl_2020 = raw_2020.drop([303, 304])\n",
    "\n",
    "# convert columns from object to integer for calculation\n",
    "months = ['Jan', 'Feb', 'Mar', 'Apr', 'May', 'Jun', 'Jul', 'Aug', 'Sep', 'Oct', 'Nov', 'Dec']\n",
    "for month in months:\n",
    "    cl_2020[f'{month}'] = cl_2020[f'{month}'].astype(int)\n",
    "\n",
    "# create a new column that equals the sum or rows in the dataframe\n",
    "cl_2020[\"2020 Year End\"] = cl_2020.sum(axis=1)\n",
    "# change name of Model to Vehicle\n",
    "cl_2020.rename(columns = {'Model':'Vehicle'}, inplace = True)"
   ]
  },
  {
   "cell_type": "code",
   "execution_count": null,
   "metadata": {},
   "outputs": [],
   "source": [
    "# remove non-vehicle rows from the 2019 list\n",
    "cl_2019 = clean_2019.drop([285, 286])\n",
    "\n",
    "# return a new DataFrame that executes a left outer merges 2020 and 2019\n",
    "clean_2020 = pd.merge(cl_2020, cl_2019, how=\"left\", on='Vehicle')\n",
    "# keep only the relevant columns\n",
    "clean_2020 = clean_2020[[\"Vehicle\", \"2020 Year End\", \"2019 Year End\"]]\n",
    "\n",
    "# replace null values in '2019 Year End' by 0\n",
    "clean_2020['2019 Year End'] = clean_2020['2019 Year End'].fillna(0)\n",
    "\n",
    "# convert 2019 Year End to integers\n",
    "clean_2020[\"2019 Year End\"] = clean_2020[\"2019 Year End\"].astype(int)\n",
    "\n",
    "# create empy column for % Change 2020\n",
    "clean_2020[\"% Change 2020\"] = \"\""
   ]
  },
  {
   "cell_type": "code",
   "execution_count": null,
   "metadata": {},
   "outputs": [],
   "source": [
    "# create calculions for % Change except for null values\n",
    "for index, row in clean_2020.iterrows():\n",
    "    if row[2] != 0:\n",
    "        clean_2020[\"% Change 2020\"][index] = round(((clean_2020[\"2020 Year End\"][index] - clean_2020[\"2019 Year End\"][index]) / clean_2020[\"2019 Year End\"][index]) * 100, 2)\n",
    "    else:\n",
    "        clean_2020[\"% Change 2020\"][index] = 0"
   ]
  },
  {
   "cell_type": "code",
   "execution_count": null,
   "metadata": {},
   "outputs": [],
   "source": [
    "# convert % Change 2020 to float\n",
    "clean_2020[\"% Change 2020\"] = clean_2020[\"% Change 2020\"].astype(float)"
   ]
  },
  {
   "cell_type": "code",
   "execution_count": null,
   "metadata": {},
   "outputs": [],
   "source": [
    "clean_2020"
   ]
  },
  {
   "cell_type": "code",
   "execution_count": null,
   "metadata": {},
   "outputs": [],
   "source": [
    "clean_2020.dtypes"
   ]
  },
  {
   "cell_type": "code",
   "execution_count": null,
   "metadata": {},
   "outputs": [],
   "source": [
    "#export as csv for use elsewhere\n",
    "clean_2020.to_csv(f\"output_data/raw/clean_cars_2020.csv\", index=False, header=True)"
   ]
  }
 ],
 "metadata": {
  "kernelspec": {
   "display_name": "Python 3",
   "language": "python",
   "name": "python3"
  },
  "language_info": {
   "codemirror_mode": {
    "name": "ipython",
    "version": 3
   },
   "file_extension": ".py",
   "mimetype": "text/x-python",
   "name": "python",
   "nbconvert_exporter": "python",
   "pygments_lexer": "ipython3",
   "version": "3.8.3"
  }
 },
 "nbformat": 4,
 "nbformat_minor": 4
}
